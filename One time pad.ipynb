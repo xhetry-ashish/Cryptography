{
 "cells": [
  {
   "cell_type": "code",
   "execution_count": 3,
   "metadata": {},
   "outputs": [
    {
     "name": "stdout",
     "output_type": "stream",
     "text": [
      "Enter the text: ashish\n",
      "Enter the key: basnet\n",
      "Encrypted text is:  bszvwa\n",
      "Decrypted text is:  ashish\n"
     ]
    }
   ],
   "source": [
    "alphabets = [ chr(ord('a')+i) for i in range(26)]\n",
    "text = input(\"Enter the text: \").lower()\n",
    "key = input(\"Enter the key: \").lower()\n",
    "\n",
    "def encryption(text = text, key = key):\n",
    "  encrypted = [ alphabets[(alphabets.index(text[i]) + alphabets.index(key[i]) ) % 26] for i in range(len(text)) ]\n",
    "  return ''.join(encrypted)\n",
    "\n",
    "print(\"Encrypted text is: \",encryption())\n",
    "\n",
    "\n",
    "def decryption(text = encryption(), key = key):\n",
    "  decrypted = [ alphabets[(alphabets.index(text[i]) - alphabets.index(key[i]) ) % 26] for i in range(len(text)) ]\n",
    "  return ''.join(decrypted)\n",
    "\n",
    "print(\"Decrypted text is: \",decryption())\n"
   ]
  },
  {
   "cell_type": "code",
   "execution_count": null,
   "metadata": {},
   "outputs": [],
   "source": []
  },
  {
   "cell_type": "code",
   "execution_count": null,
   "metadata": {},
   "outputs": [],
   "source": []
  }
 ],
 "metadata": {
  "kernelspec": {
   "display_name": "Python 3",
   "language": "python",
   "name": "python3"
  },
  "language_info": {
   "codemirror_mode": {
    "name": "ipython",
    "version": 3
   },
   "file_extension": ".py",
   "mimetype": "text/x-python",
   "name": "python",
   "nbconvert_exporter": "python",
   "pygments_lexer": "ipython3",
   "version": "3.7.4"
  }
 },
 "nbformat": 4,
 "nbformat_minor": 2
}
