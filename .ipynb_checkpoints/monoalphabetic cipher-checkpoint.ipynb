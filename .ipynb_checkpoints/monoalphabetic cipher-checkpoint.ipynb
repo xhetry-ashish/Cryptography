{
 "cells": [
  {
   "cell_type": "markdown",
   "metadata": {},
   "source": [
    "Program to implement monoalphabetic Cipher"
   ]
  },
  {
   "cell_type": "code",
   "execution_count": null,
   "metadata": {},
   "outputs": [],
   "source": []
  },
  {
   "cell_type": "code",
   "execution_count": 17,
   "metadata": {},
   "outputs": [
    {
     "name": "stdout",
     "output_type": "stream",
     "text": [
      "Enter the text that we want to encrypt:hide me this\n",
      "The databases of  key value are: \n",
      "['a', 'b', 'c', 'd', 'e', 'f', 'g', 'h', 'i', 'j', 'k', 'l', 'm', 'n', 'o', 'p', 'q', 'r', 's', 't', 'u', 'v', 'w', 'x', 'y', 'z']\n",
      "['s', 'v', 'b', 'm', 'k', 'a', 'f', 'r', 'c', 'q', 'y', 'j', 't', 'g', 'h', 'z', 'd', 'w', 'o', 'l', 'i', 'u', 'n', 'e', 'x', 'p']\n",
      "For Encryption and Decryption: \n",
      "Plain text: hide me this\n",
      "Cipher text: rcmk tk lrco\n",
      "Decrypted text: hide me this\n"
     ]
    }
   ],
   "source": [
    "import random\n",
    "\n",
    "plain_text = input(\"Enter the text that we want to encrypt:\")\n",
    "cipher_text = ''\n",
    "decipher_text = ''\n",
    "\n",
    "alphabets = [chr(a) for a in range(97,123)]\n",
    "mappings = [chr(a) for a in range(97,123)]\n",
    "\n",
    "random.shuffle(mappings) \n",
    "print(\"The databases of  key value are: \")\n",
    "print(alphabets)\n",
    "print(mappings)\n",
    "\n",
    "\n",
    "print(\"For Encryption and Decryption: \") \n",
    "#main idea is comparing input string with alphabet list \n",
    "#and assinging the values according to posiition of mapping list \n",
    "for i in range(len(plain_text)):\n",
    "    if plain_text[i].isspace()==True:\n",
    "        cipher_text += \" \"\n",
    "    for j in range(len(alphabets)):\n",
    "        if(plain_text[i] == alphabets[j]):\n",
    "            cipher_text += mappings[j]\n",
    "    \n",
    " \n",
    "print(\"Plain text:\",plain_text)\n",
    "print(\"Cipher text:\",cipher_text)\n",
    "\n",
    "\n",
    "for i in range(len(cipher_text)):\n",
    "    if plain_text[i].isspace()==True:\n",
    "       decipher_text += \" \"\n",
    "    for j in range(len(alphabets)):\n",
    "        if(cipher_text[i]== mappings[j]):\n",
    "            decipher_text += alphabets[j]\n",
    "     \n",
    "print(\"Decrypted text:\",decipher_text)"
   ]
  },
  {
   "cell_type": "code",
   "execution_count": null,
   "metadata": {},
   "outputs": [],
   "source": []
  },
  {
   "cell_type": "code",
   "execution_count": null,
   "metadata": {},
   "outputs": [],
   "source": []
  },
  {
   "cell_type": "code",
   "execution_count": null,
   "metadata": {},
   "outputs": [],
   "source": []
  },
  {
   "cell_type": "code",
   "execution_count": null,
   "metadata": {},
   "outputs": [],
   "source": []
  },
  {
   "cell_type": "code",
   "execution_count": null,
   "metadata": {},
   "outputs": [],
   "source": []
  }
 ],
 "metadata": {
  "kernelspec": {
   "display_name": "Python 3",
   "language": "python",
   "name": "python3"
  },
  "language_info": {
   "codemirror_mode": {
    "name": "ipython",
    "version": 3
   },
   "file_extension": ".py",
   "mimetype": "text/x-python",
   "name": "python",
   "nbconvert_exporter": "python",
   "pygments_lexer": "ipython3",
   "version": "3.7.4"
  }
 },
 "nbformat": 4,
 "nbformat_minor": 2
}
