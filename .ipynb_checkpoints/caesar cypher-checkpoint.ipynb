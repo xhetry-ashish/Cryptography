{
 "cells": [
  {
   "cell_type": "markdown",
   "metadata": {},
   "source": [
    " \n",
    "Program to implement caesar cypher\n",
    "\n"
   ]
  },
  {
   "cell_type": "code",
   "execution_count": 17,
   "metadata": {},
   "outputs": [
    {
     "name": "stdout",
     "output_type": "stream",
     "text": [
      "For Encryption \n",
      "Enter the text that you want to encrypt: my name is ashish\n",
      "Enter the key value: 4\n",
      "cipher text:  qc reqi mw ewlmwl\n",
      "For Decryption\n",
      "Enter the key value: 4\n",
      "decrypt plain  text:  my name is ashish\n"
     ]
    }
   ],
   "source": [
    "print(\"For Encryption \")\n",
    "text=input(\"Enter the text that you want to encrypt: \") \n",
    "s=int(input(\"Enter the key value: \"))\n",
    "#encryption\n",
    "def encrypt (text,s):\n",
    "    result = \"\"\n",
    " #transverse the plain text\n",
    "    for  i in range(len(text)):\n",
    "        char=text[i]\n",
    "    # Encrypt uppercase characters in plain text\n",
    "        if \" \"in char:\n",
    "            result += char \n",
    "        else:\n",
    "            if (char.isupper()):\n",
    "                result += chr((ord(char) + s-65) % 26 + 65)\n",
    "      # Encrypt lowercase characters in plain text\n",
    "            else:\n",
    "                result += chr((ord(char) + s - 97) % 26 + 97)\n",
    "    return result\n",
    "a=encrypt(text,s)\n",
    "print(\"cipher text: \",a)\n",
    "\n",
    "#decryption\n",
    "print(\"For Decryption\")\n",
    "k=int(input(\"Enter the key value: \"))\n",
    "def decrypt (a,k):\n",
    "    result1 = \"\"\n",
    " #transverse the plain text\n",
    "    for  i in range(len(a)):\n",
    "        char=a[i]\n",
    "    # Decrypt uppercase characters in plain text\n",
    "        if \" \" in char:\n",
    "            result1+=char\n",
    "        else:\n",
    "            if (char.isupper()):\n",
    "                result1 += chr((ord(char) - k-65) % 26 + 65)\n",
    "      # Decrypt lowercase characters in plain text\n",
    "            else:\n",
    "                result1 += chr((ord(char) - k - 97) % 26 + 97)\n",
    "    return result1\n",
    "print(\"decrypt plain  text: \",decrypt(a,k))\n",
    "\n",
    "\n"
   ]
  },
  {
   "cell_type": "code",
   "execution_count": null,
   "metadata": {},
   "outputs": [],
   "source": []
  },
  {
   "cell_type": "code",
   "execution_count": null,
   "metadata": {},
   "outputs": [],
   "source": []
  },
  {
   "cell_type": "code",
   "execution_count": null,
   "metadata": {},
   "outputs": [],
   "source": []
  },
  {
   "cell_type": "code",
   "execution_count": null,
   "metadata": {},
   "outputs": [],
   "source": []
  },
  {
   "cell_type": "code",
   "execution_count": null,
   "metadata": {},
   "outputs": [],
   "source": []
  },
  {
   "cell_type": "code",
   "execution_count": null,
   "metadata": {},
   "outputs": [],
   "source": []
  },
  {
   "cell_type": "code",
   "execution_count": null,
   "metadata": {},
   "outputs": [],
   "source": []
  }
 ],
 "metadata": {
  "kernelspec": {
   "display_name": "Python 3",
   "language": "python",
   "name": "python3"
  },
  "language_info": {
   "codemirror_mode": {
    "name": "ipython",
    "version": 3
   },
   "file_extension": ".py",
   "mimetype": "text/x-python",
   "name": "python",
   "nbconvert_exporter": "python",
   "pygments_lexer": "ipython3",
   "version": "3.7.4"
  }
 },
 "nbformat": 4,
 "nbformat_minor": 2
}
