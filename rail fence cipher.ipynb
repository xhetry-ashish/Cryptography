{
 "cells": [
  {
   "cell_type": "code",
   "execution_count": 7,
   "metadata": {},
   "outputs": [
    {
     "name": "stdout",
     "output_type": "stream",
     "text": [
      "Enter any text to be ciphered: hello its me\n",
      "Enter the key: 4\n",
      "Encrypted text:  hie telosml \n",
      "Decrypted text:  hello its me\n"
     ]
    }
   ],
   "source": [
    "text = input(\"Enter any text to be ciphered: \")\n",
    "text = list(text)\n",
    "steps = int(input(\"Enter the key: \"))\n",
    "key = steps\n",
    "\n",
    "if key>2:\n",
    "  key = key+int((key/2))\n",
    "\n",
    "\n",
    "\n",
    "def fencecipher_encryption(text,key):\n",
    "  cipher = list()\n",
    "  k = key\n",
    "  matrix = list()\n",
    "  for j in range(steps):\n",
    "    u = list()\n",
    "    matrix.append(u)\n",
    "    for i in range(j,len(text),key):\n",
    "      cipher.append(text[i])\n",
    "      u.append(text[i])\n",
    "      if k!=key and k>1:\n",
    "        try:\n",
    "          length = i+k\n",
    "          cipher.append(text[length])\n",
    "          u.append(text[length])\n",
    "        except:\n",
    "          pass\n",
    "    k = k-2\n",
    "    \n",
    "  cipher = \"\".join(cipher)\n",
    "  return cipher,matrix\n",
    "\n",
    "encrypted,matrix = fencecipher_encryption(text,key)\n",
    "\n",
    "print(\"Encrypted text: \",encrypted)\n",
    "\n",
    "\n",
    "#making a function for pointer that points to the Nth list whose item is to be poped to decrypt the text\n",
    "def pointer(max,length):\n",
    "  generated  = list()\n",
    "  prev = -1\n",
    "  now = 0\n",
    "  while(len(generated)!=length):\n",
    "    if now == max:\n",
    "      now = now-1\n",
    "      prev = max\n",
    "    elif now == 0:\n",
    "      now = now+1\n",
    "      prev = 0 \n",
    "    elif now-prev > 0:\n",
    "      prev = now\n",
    "      now = now+1\n",
    "    # elif now-prev<0:\n",
    "    else:\n",
    "      prev = now\n",
    "      now = now - 1\n",
    "    generated.append(prev)\n",
    "  return generated\n",
    "\n",
    "#poping the first item of every list where the pointer points\n",
    "def fence_cipher_decryption(max,length,matrix=matrix):\n",
    "  generated = pointer(max,length)\n",
    "  decryption = list()\n",
    "  for i in range(length):\n",
    "    try:\n",
    "      temp = matrix[generated[i]].pop(0)\n",
    "      decryption.append(temp)\n",
    "    except:\n",
    "      pass\n",
    "  \n",
    "  return \"\".join(decryption)\n",
    "\n",
    "decrypted_text = fence_cipher_decryption(steps-1,len(text))\n",
    "\n",
    "print(\"Decrypted text: \",decrypted_text)\n"
   ]
  },
  {
   "cell_type": "code",
   "execution_count": null,
   "metadata": {},
   "outputs": [],
   "source": []
  },
  {
   "cell_type": "code",
   "execution_count": null,
   "metadata": {},
   "outputs": [],
   "source": []
  }
 ],
 "metadata": {
  "kernelspec": {
   "display_name": "Python 3",
   "language": "python",
   "name": "python3"
  },
  "language_info": {
   "codemirror_mode": {
    "name": "ipython",
    "version": 3
   },
   "file_extension": ".py",
   "mimetype": "text/x-python",
   "name": "python",
   "nbconvert_exporter": "python",
   "pygments_lexer": "ipython3",
   "version": "3.7.4"
  }
 },
 "nbformat": 4,
 "nbformat_minor": 2
}
